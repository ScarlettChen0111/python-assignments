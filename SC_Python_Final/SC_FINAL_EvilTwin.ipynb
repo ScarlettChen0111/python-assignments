{
 "cells": [
  {
   "cell_type": "code",
   "execution_count": null,
   "id": "23915be8",
   "metadata": {},
   "outputs": [],
   "source": [
    "import openai\n"
   ]
  },
  {
   "cell_type": "code",
   "execution_count": null,
   "id": "675c87dd",
   "metadata": {},
   "outputs": [],
   "source": [
    "openai.api_key="
   ]
  },
  {
   "cell_type": "code",
   "execution_count": null,
   "id": "c88be6c0",
   "metadata": {},
   "outputs": [],
   "source": [
    "response = openai.Completion.create(\n",
    "    model=\"curie:ft-personal-2023-05-10-19-13-54\",\n",
    "    prompt=\"describe cat in a few words\",\n",
    "    temperature=0.7, #randomness \n",
    "    max_tokens=30, #charaters in response \n",
    "    top_p=1, #controls diversity\n",
    "    frequency_penalty=0.5, #decrease repetition \n",
    "    presence_penalty=0 #increase likelihood to talk about new topic \n",
    ")"
   ]
  },
  {
   "cell_type": "code",
   "execution_count": null,
   "id": "43d4c9cf",
   "metadata": {},
   "outputs": [],
   "source": [
    "result=response.choices[0].text\n",
    "print(result)"
   ]
  },
  {
   "cell_type": "code",
   "execution_count": null,
   "id": "905c3eec",
   "metadata": {},
   "outputs": [],
   "source": [
    "response = openai.Completion.create(\n",
    "    model=\"text-davinci-001\",\n",
    "    prompt=\"describe cat in a few words\",\n",
    "    temperature=0.7, #randomness \n",
    "    max_tokens=30, #charaters in response \n",
    "    top_p=1, #controls diversity\n",
    "    frequency_penalty=0.5, #decrease repetition \n",
    "    presence_penalty=0 #increase likelihood to talk about new topic \n",
    ")\n",
    "result=response.choices[0].text\n",
    "print(result)"
   ]
  },
  {
   "cell_type": "code",
   "execution_count": null,
   "id": "d3e87ec4",
   "metadata": {},
   "outputs": [],
   "source": []
  }
 ],
 "metadata": {
  "kernelspec": {
   "display_name": "Python 3 (ipykernel)",
   "language": "python",
   "name": "python3"
  },
  "language_info": {
   "codemirror_mode": {
    "name": "ipython",
    "version": 3
   },
   "file_extension": ".py",
   "mimetype": "text/x-python",
   "name": "python",
   "nbconvert_exporter": "python",
   "pygments_lexer": "ipython3",
   "version": "3.9.13"
  }
 },
 "nbformat": 4,
 "nbformat_minor": 5
}
