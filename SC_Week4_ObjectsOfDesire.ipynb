{
 "cells": [
  {
   "cell_type": "markdown",
   "metadata": {},
   "source": [
    "Create a class object of something that you love. Write at least 3 methods for it. Include some attributes.\n",
    "\n",
    "Items you love can be categorical: \n",
    "\n",
    "* Food  \n",
    "* Pets \n",
    "* Vehicles \n",
    "* Places \n",
    "* Activities \n",
    "* Things \n",
    "\n",
    "See examples below "
   ]
  },
  {
   "cell_type": "code",
   "execution_count": null,
   "metadata": {},
   "outputs": [],
   "source": [
    "# A class with two instance attributes\n",
    "class Item:\n",
    "\n",
    "    # initializer with instance attributes\n",
    "    def __init__(self, color, style):\n",
    "        self.color = color\n",
    "        self.style = style"
   ]
  },
  {
   "cell_type": "code",
   "execution_count": 1,
   "metadata": {},
   "outputs": [],
   "source": [
    "# A class with one class attribute\n",
    "class Car:\n",
    "\n",
    "    # class attribute\n",
    "    wheels = 4\n",
    "\n",
    "    # initializer with instance attributes\n",
    "    def __init__(self, color, style):\n",
    "        self.color = color\n",
    "        self.style = style"
   ]
  },
  {
   "cell_type": "code",
   "execution_count": 1,
   "metadata": {},
   "outputs": [],
   "source": [
    "class Cat:\n",
    "    \n",
    "    color = \"black, white and grey\"\n",
    "    \n",
    "    \n",
    "    def __init__(self, name, breed, age, gender):\n",
    "        self.name = name\n",
    "        self.breed = breed\n",
    "        self.age = age\n",
    "        self.gender = gender\n",
    "    def food(self, pronoun, food1, food2, food3,food4):\n",
    "        print(\"This is {}, {} favorite foods are {},{},{}, and {}\".format(self.name, pronoun, food1, food2, food3, food4))\n",
    "        \n",
    "\n",
    "    def speak(self):\n",
    "        mood = input('''\n",
    "        Please select one mood and try: \n",
    "        hungry\n",
    "        boring\n",
    "        calm\n",
    "        happy\n",
    "        \n",
    "        ''')\n",
    "        if mood == \"hungry\":\n",
    "            print(\"Gimme Food~~~~MMMMEEEEEEOOOOOOOOWWWWWWW~~~~~~\")\n",
    "        if mood == \"boring\":\n",
    "            print(\"meow~\")\n",
    "        if mood == \"calm\":\n",
    "            print(\"*purr* meow *purr*\")\n",
    "        if mood == \"happy\":\n",
    "            print(\"*puuuurrrrrr*~MEOW~*puuuurrrrr*\")"
   ]
  },
  {
   "cell_type": "code",
   "execution_count": null,
   "metadata": {},
   "outputs": [],
   "source": []
  },
  {
   "cell_type": "code",
   "execution_count": null,
   "metadata": {},
   "outputs": [],
   "source": []
  }
 ],
 "metadata": {
  "kernelspec": {
   "display_name": "Python 3 (ipykernel)",
   "language": "python",
   "name": "python3"
  },
  "language_info": {
   "codemirror_mode": {
    "name": "ipython",
    "version": 3
   },
   "file_extension": ".py",
   "mimetype": "text/x-python",
   "name": "python",
   "nbconvert_exporter": "python",
   "pygments_lexer": "ipython3",
   "version": "3.9.13"
  }
 },
 "nbformat": 4,
 "nbformat_minor": 2
}
