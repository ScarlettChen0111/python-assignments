{
 "cells": [
  {
   "cell_type": "code",
   "execution_count": null,
   "metadata": {},
   "outputs": [],
   "source": [
    "# 1) What is the output of the following code and why? \n",
    "\n",
    "# var1 = 1\n",
    "# var2 = 2\n",
    "# var3 = \"3\"\n",
    "\n",
    "# print(var1 + var2 + var3)\n",
    "\n",
    "# a) 6 \n",
    "# b) 33 \n",
    "# c) 3 + 3 \n",
    "# d) Error "
   ]
  },
  {
   "cell_type": "code",
   "execution_count": null,
   "metadata": {},
   "outputs": [],
   "source": [
    "# Answer is c because var3 is a string"
   ]
  },
  {
   "cell_type": "code",
   "execution_count": null,
   "metadata": {},
   "outputs": [],
   "source": [
    "# 2) What is the output of the following code? \n",
    "\n",
    "# str = \"pynative\"\n",
    "\n",
    "# print (str[1:3])\n",
    "\n",
    "# a) py\n",
    "# b) yn\n",
    "# c) pyn\n",
    "# d) yna"
   ]
  },
  {
   "cell_type": "code",
   "execution_count": null,
   "metadata": {},
   "outputs": [],
   "source": [
    "# Answer is b"
   ]
  },
  {
   "cell_type": "code",
   "execution_count": null,
   "metadata": {},
   "outputs": [],
   "source": [
    "# 3) What is the output of the following code? \n",
    "\n",
    "# var= \"James Bond\"\n",
    "# print(var[2::-1])\n",
    "\n",
    "# a) Jam\n",
    "# b) dno\n",
    "# c) maJ\n",
    "# d) dnoB semaJ"
   ]
  },
  {
   "cell_type": "code",
   "execution_count": null,
   "metadata": {},
   "outputs": [],
   "source": [
    "# c"
   ]
  },
  {
   "cell_type": "code",
   "execution_count": null,
   "metadata": {},
   "outputs": [],
   "source": [
    "# 4) What is the output of the following code? \n",
    "\n",
    "# var = \"James\" * 2  * 3\n",
    "# print(var)\n",
    "\n",
    "# a) JamesJamesJamesJamesJamesJames\n",
    "# b) JamesJamesJamesJamesJames\n",
    "# c) Error: invalid syntax"
   ]
  },
  {
   "cell_type": "code",
   "execution_count": null,
   "metadata": {},
   "outputs": [],
   "source": [
    "# a"
   ]
  },
  {
   "cell_type": "code",
   "execution_count": null,
   "metadata": {},
   "outputs": [],
   "source": [
    "# 5) Get rid of the non fruit item: \n",
    "\n",
    "# sweets = ['apple', 'bananas', 'cantelopes', 'donut']\n"
   ]
  },
  {
   "cell_type": "code",
   "execution_count": 3,
   "metadata": {},
   "outputs": [
    {
     "data": {
      "text/plain": [
       "['apple', 'bananas', 'cantelopes']"
      ]
     },
     "execution_count": 3,
     "metadata": {},
     "output_type": "execute_result"
    }
   ],
   "source": [
    "sweets = ['apple', 'bananas', 'cantelopes', 'donut']\n",
    "sweets[:3]"
   ]
  },
  {
   "cell_type": "code",
   "execution_count": null,
   "metadata": {},
   "outputs": [],
   "source": [
    "# 6) Find \"santa\" in the variable \"house\" \n",
    "\n",
    "\n",
    "# room1=['gabe', 'greg']\n",
    "# room2=['michelle','santa','stacey']\n",
    "# room3=['adam','sam', 'melissa']\n",
    "# house= [room2, room1, room3] \n"
   ]
  },
  {
   "cell_type": "code",
   "execution_count": 5,
   "metadata": {},
   "outputs": [
    {
     "data": {
      "text/plain": [
       "'santa'"
      ]
     },
     "execution_count": 5,
     "metadata": {},
     "output_type": "execute_result"
    }
   ],
   "source": [
    " room1=['gabe', 'greg']\n",
    " room2=['michelle','santa','stacey']\n",
    " room3=['adam','sam', 'melissa']\n",
    " house= [room2, room1, room3] \n",
    "\n",
    "house[0][1]\n"
   ]
  },
  {
   "cell_type": "code",
   "execution_count": null,
   "metadata": {},
   "outputs": [],
   "source": [
    "# 7) A dictionary is the best way to store a sequence of events like a recipe.\n",
    "\n",
    "# True or false? \n",
    " \n"
   ]
  },
  {
   "cell_type": "code",
   "execution_count": null,
   "metadata": {},
   "outputs": [],
   "source": [
    "False. "
   ]
  },
  {
   "cell_type": "code",
   "execution_count": null,
   "metadata": {},
   "outputs": [],
   "source": [
    "# 8) Remove all dupes \n",
    "# names = ['mary', 'bob', 'jessica', 'pierre', 'bob', 'jennifer', 'chris', \n",
    "#          'christina', 'tina', 'mary', 'tina', 'bob', 'michelle','jennifer']"
   ]
  },
  {
   "cell_type": "code",
   "execution_count": 6,
   "metadata": {},
   "outputs": [
    {
     "name": "stdout",
     "output_type": "stream",
     "text": [
      "{'michelle', 'tina', 'pierre', 'bob', 'mary', 'christina', 'chris', 'jennifer', 'jessica'}\n"
     ]
    }
   ],
   "source": [
    " names = ['mary', 'bob', 'jessica', 'pierre', 'bob', 'jennifer', 'chris', \n",
    "        'christina', 'tina', 'mary', 'tina', 'bob', 'michelle','jennifer']\n",
    "nameset=set(names)\n",
    "print(nameset)"
   ]
  },
  {
   "cell_type": "code",
   "execution_count": null,
   "metadata": {},
   "outputs": [],
   "source": [
    "# 9) What's the difference between = and == ? "
   ]
  },
  {
   "cell_type": "code",
   "execution_count": null,
   "metadata": {},
   "outputs": [],
   "source": [
    "# The = is a simple assignment operator. It assigns values from right side operands to the left side operand. \n",
    "#While on the other hand == checks if the values of two operands are equal or not"
   ]
  },
  {
   "cell_type": "code",
   "execution_count": null,
   "metadata": {},
   "outputs": [],
   "source": [
    "# 10) \n",
    "\n",
    "# Use the concepts you learned in class to construct a poem. Please make sure you write your own poem. There are no guidelines to writing this poem but if you want, feel free to following traditional poem formats like ballads, sonnets, haikus or more.  \n",
    "\n",
    "# See below for example. I expect yours to have a bit more elegant. \n",
    "\n",
    "# Credit Poem: \"Still I Rise\" by Maya Angelou \n",
    "\n",
    "# Reference: https://www.popwebdesign.net/popart_blog/en/2018/01/code-poetry-poems-written-in-programming-languages/ \n"
   ]
  },
  {
   "cell_type": "code",
   "execution_count": 14,
   "metadata": {},
   "outputs": [
    {
     "name": "stdout",
     "output_type": "stream",
     "text": [
      "When the virtuous wants to become a Buddha, \n",
      "going through the worst challenges is a must;\n",
      "when the butcher decides to achieve the same goal in his life,\n",
      "all he needs to do is put down his knife. \n",
      "\n",
      "\n",
      "hmmm...\n",
      "\n",
      "\n",
      "being a good person is not easy\n",
      "It really isn't.\n",
      "So I decided to make some changes\n",
      "and the art of words work pretty nicely. \n",
      "\n",
      "\n",
      "When someone said: \"why did Parsons give you offer your works are like shit\"\n",
      "I replied: \"I guess I reminded them of the failed art student in 1908\"\n",
      "When someone insulted me:\"What makes you so confident your look is just about the average\"\n",
      "I replied: \"My face is not the best but at least I don’t have your buck teeth\"\n",
      "With smile.\n",
      ": )\n",
      "\n",
      "\n",
      "When someone forced me to do things in his way,\n",
      "all that was in my mind was he still had mortgage to be paid.\n",
      "I need to give him more tolerance,\n",
      "because I am a nice person.\n",
      ": )\n",
      "\n",
      "Maybe I’ve been way too sarcastic then one day my mom decides to interfere a little bit.\n",
      "\n",
      "\n",
      "She said: \"Hey ummm…I know it’s their fault but still…you should give them some sort of respect\"\n",
      "\n",
      "\n",
      "I looked at her, smiled:\n",
      "\"Respect has offered, hasn’t it?\"\n",
      "\"But they don’t want it.\"\n",
      ": )\n"
     ]
    }
   ],
   "source": [
    "smile = \": )\"\n",
    "i = \"\\\"why did Parsons give you offer your works are like shit\\\"\"\n",
    "ii = \"\\\"What makes you so confident your look is just about the average\\\"\"\n",
    "r = \"\\\"I guess I reminded them of the failed art student in 1908\\\"\"\n",
    "rr = \"\\\"My face is not the best but at least I don’t have your buck teeth\\\"\"\n",
    "m = \"\\\"Hey ummm…I know it’s their fault but still…you should give them some sort of respect\\\"\"\n",
    "rsp = \"\\\"Respect has offered, hasn’t it?\\\"\"\n",
    "rsp2 = \"\\\"But they don’t want it.\\\"\"\n",
    "\n",
    "\n",
    "print(\"When the virtuous wants to become a Buddha, \")\n",
    "print(\"going through the worst challenges is a must;\")\n",
    "print(\"when the butcher decides to achieve the same goal in his life,\")\n",
    "print(\"all he needs to do is put down his knife. \")\n",
    "print(\"\\n\")\n",
    "print(\"hmmm...\")\n",
    "print(\"\\n\")\n",
    "print(\"Being a good person \"+\"is not easy\"+\"\\nIt really isn't.\")\n",
    "print(\"So I decided to make some changes\"+\"\\nAnd the art of words work pretty nicely. \")\n",
    "print('\\n')\n",
    "print(\"When someone said: \"+i)\n",
    "print(\"I replied: \"+r)\n",
    "print(\"When someone insulted me: \"+ii)\n",
    "print(\"I replied: \"+rr+\"\\nWith smile.\")\n",
    "print(smile)\n",
    "print(\"\\n\")\n",
    "print(\"When someone forced me to do things in his way,\"+\"\\nall that was in my mind was he still had mortgage to be paid.\")\n",
    "print(\"I need to give him more tolerance,\")\n",
    "print(\"because I am a nice person.\"+\"\\n\"+smile+\"\\n\")\n",
    "print(\"Maybe I’ve been way too sarcastic then one day my mom decides to interfere a little bit.\")\n",
    "print(\"\\n\")\n",
    "print(\"She said: \"+m)\n",
    "print('\\n')\n",
    "print(\"I looked at her, smiled:\")\n",
    "print(f\"{rsp}\")\n",
    "print(f\"{rsp2}\"+\"\\n\"+smile)\n"
   ]
  },
  {
   "cell_type": "code",
   "execution_count": null,
   "metadata": {},
   "outputs": [],
   "source": []
  }
 ],
 "metadata": {
  "kernelspec": {
   "display_name": "Python 3 (ipykernel)",
   "language": "python",
   "name": "python3"
  },
  "language_info": {
   "codemirror_mode": {
    "name": "ipython",
    "version": 3
   },
   "file_extension": ".py",
   "mimetype": "text/x-python",
   "name": "python",
   "nbconvert_exporter": "python",
   "pygments_lexer": "ipython3",
   "version": "3.9.13"
  }
 },
 "nbformat": 4,
 "nbformat_minor": 2
}
